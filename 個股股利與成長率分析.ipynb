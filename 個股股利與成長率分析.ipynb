{
  "nbformat": 4,
  "nbformat_minor": 0,
  "metadata": {
    "colab": {
      "provenance": [],
      "authorship_tag": "ABX9TyPwNMGRJmD5gzYZ/3g0aLnG",
      "include_colab_link": true
    },
    "kernelspec": {
      "name": "python3",
      "display_name": "Python 3"
    },
    "language_info": {
      "name": "python"
    }
  },
  "cells": [
    {
      "cell_type": "markdown",
      "metadata": {
        "id": "view-in-github",
        "colab_type": "text"
      },
      "source": [
        "<a href=\"https://colab.research.google.com/github/cc-huang-0716/stock-screening-system/blob/main/%E5%80%8B%E8%82%A1%E8%82%A1%E5%88%A9%E8%88%87%E6%88%90%E9%95%B7%E7%8E%87%E5%88%86%E6%9E%90.ipynb\" target=\"_parent\"><img src=\"https://colab.research.google.com/assets/colab-badge.svg\" alt=\"Open In Colab\"/></a>"
      ]
    },
    {
      "cell_type": "code",
      "execution_count": null,
      "metadata": {
        "colab": {
          "base_uri": "https://localhost:8080/"
        },
        "id": "Ga_lGyhW0mcO",
        "outputId": "3baea2a4-9902-4a72-8c6b-822a5e6d47fe"
      },
      "outputs": [
        {
          "output_type": "stream",
          "name": "stderr",
          "text": [
            "<ipython-input-2-adc2bbdfa998>:30: FutureWarning: Series.__getitem__ treating keys as positions is deprecated. In a future version, integer keys will always be treated as labels (consistent with DataFrame behavior). To access a value by position, use `ser.iloc[pos]`\n",
            "  D0 = past_dividend[-1]  # 2024年的股利\n",
            "<ipython-input-2-adc2bbdfa998>:31: FutureWarning: Series.__getitem__ treating keys as positions is deprecated. In a future version, integer keys will always be treated as labels (consistent with DataFrame behavior). To access a value by position, use `ser.iloc[pos]`\n",
            "  g = (past_dividend[-1] / past_dividend[0]) ** (1 / (len(past_dividend) - 1)) - 1  # 年複合增長率\n",
            "<ipython-input-2-adc2bbdfa998>:30: FutureWarning: Series.__getitem__ treating keys as positions is deprecated. In a future version, integer keys will always be treated as labels (consistent with DataFrame behavior). To access a value by position, use `ser.iloc[pos]`\n",
            "  D0 = past_dividend[-1]  # 2024年的股利\n",
            "<ipython-input-2-adc2bbdfa998>:31: FutureWarning: Series.__getitem__ treating keys as positions is deprecated. In a future version, integer keys will always be treated as labels (consistent with DataFrame behavior). To access a value by position, use `ser.iloc[pos]`\n",
            "  g = (past_dividend[-1] / past_dividend[0]) ** (1 / (len(past_dividend) - 1)) - 1  # 年複合增長率\n",
            "<ipython-input-2-adc2bbdfa998>:30: FutureWarning: Series.__getitem__ treating keys as positions is deprecated. In a future version, integer keys will always be treated as labels (consistent with DataFrame behavior). To access a value by position, use `ser.iloc[pos]`\n",
            "  D0 = past_dividend[-1]  # 2024年的股利\n",
            "<ipython-input-2-adc2bbdfa998>:31: FutureWarning: Series.__getitem__ treating keys as positions is deprecated. In a future version, integer keys will always be treated as labels (consistent with DataFrame behavior). To access a value by position, use `ser.iloc[pos]`\n",
            "  g = (past_dividend[-1] / past_dividend[0]) ** (1 / (len(past_dividend) - 1)) - 1  # 年複合增長率\n"
          ]
        },
        {
          "output_type": "stream",
          "name": "stdout",
          "text": [
            "沒有符合條件的股票。\n"
          ]
        },
        {
          "output_type": "stream",
          "name": "stderr",
          "text": [
            "<ipython-input-2-adc2bbdfa998>:30: FutureWarning: Series.__getitem__ treating keys as positions is deprecated. In a future version, integer keys will always be treated as labels (consistent with DataFrame behavior). To access a value by position, use `ser.iloc[pos]`\n",
            "  D0 = past_dividend[-1]  # 2024年的股利\n",
            "<ipython-input-2-adc2bbdfa998>:31: FutureWarning: Series.__getitem__ treating keys as positions is deprecated. In a future version, integer keys will always be treated as labels (consistent with DataFrame behavior). To access a value by position, use `ser.iloc[pos]`\n",
            "  g = (past_dividend[-1] / past_dividend[0]) ** (1 / (len(past_dividend) - 1)) - 1  # 年複合增長率\n"
          ]
        }
      ],
      "source": [
        "import yfinance as yf\n",
        "import pandas as pd\n",
        "\n",
        "# 設定篩選條件\n",
        "required_growth = 0.3  # 要求2025年比2024年成長30%\n",
        "risk_free_rate = 0.02  # 無風險利率（台灣政府債券殖利率）\n",
        "market_return = 0.08  # 台灣市場平均回報率\n",
        "beta = 1.0  # 假設股票的 beta 值為 1\n",
        "required_rate_of_return = risk_free_rate + beta * (market_return - risk_free_rate)  # 要求回報率 (CAPM)\n",
        "\n",
        "# 定義目標股票清單（這裡填入台股代碼）\n",
        "stock_list = [\"2330.TW\", \"2886.TW\", \"1101.TW\", \"2412.TW\"]  # 台積電、兆豐金、台泥、中華電\n",
        "\n",
        "# 儲存結果\n",
        "results = []\n",
        "\n",
        "for ticker in stock_list:\n",
        "    try:\n",
        "        # 抓取股票資料\n",
        "        stock = yf.Ticker(ticker)\n",
        "        dividends = stock.dividends  # 股利數據\n",
        "\n",
        "        # 確認有足夠的股利資料\n",
        "        if len(dividends) < 2:\n",
        "            print(f\"{ticker} 的股利資料不足，跳過分析。\")\n",
        "            continue\n",
        "\n",
        "        # 計算過去股利增長率 (CAGR)\n",
        "        past_dividend = dividends[-5:]  # 過去5年的股利\n",
        "        D0 = past_dividend[-1]  # 2024年的股利\n",
        "        g = (past_dividend[-1] / past_dividend[0]) ** (1 / (len(past_dividend) - 1)) - 1  # 年複合增長率\n",
        "\n",
        "        # DDM 模型預測 2025 年的股票價值\n",
        "        D1 = D0 * (1 + g)  # 預測 2025 年的股利\n",
        "        intrinsic_value_2025 = D1 / (required_rate_of_return - g)\n",
        "\n",
        "        # 2024 年的內在價值\n",
        "        intrinsic_value_2024 = D0 / (required_rate_of_return - g)\n",
        "\n",
        "        # 計算價值成長幅度\n",
        "        growth = (intrinsic_value_2025 - intrinsic_value_2024) / intrinsic_value_2024\n",
        "\n",
        "        # 判斷是否符合條件\n",
        "        if growth > required_growth:\n",
        "            results.append({\n",
        "                \"Ticker\": ticker,\n",
        "                \"2024 Intrinsic Value\": intrinsic_value_2024,\n",
        "                \"2025 Intrinsic Value\": intrinsic_value_2025,\n",
        "                \"Growth Rate\": growth,\n",
        "            })\n",
        "\n",
        "    except Exception as e:\n",
        "        print(f\"分析 {ticker} 時出現錯誤：{e}\")\n",
        "\n",
        "# 輸出結果\n",
        "if results:\n",
        "    result_df = pd.DataFrame(results)\n",
        "    print(\"符合條件的股票：\")\n",
        "    print(result_df)\n",
        "else:\n",
        "    print(\"沒有符合條件的股票。\")\n"
      ]
    }
  ]
}